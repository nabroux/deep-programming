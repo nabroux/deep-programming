{
 "cells": [
  {
   "cell_type": "code",
   "execution_count": null,
   "metadata": {},
   "outputs": [],
   "source": [
    "8 3 3\n",
    "3 -2 10\n",
    "-1 1 15\n",
    "-1 4 10\n",
    "3 2 20\n",
    "4 3 20\n",
    "-3 -4 25\n",
    "2 -3 15\n",
    "0 2 10"
   ]
  },
  {
   "cell_type": "code",
   "execution_count": 52,
   "metadata": {},
   "outputs": [
    {
     "name": "stdout",
     "output_type": "stream",
     "text": [
      "8 3 3\n",
      "3 -2 10\n",
      "-1 1 15\n",
      "-1 4 10\n",
      "3 2 20\n",
      "4 3 20\n",
      "-3 -4 25\n",
      "2 -3 15\n",
      "0 2 10\n",
      "number 0, town 8 , population 55\n",
      "number 1, town 8 , population 50\n",
      "number 2, town 8 , population 50\n"
     ]
    },
    {
     "ename": "TypeError",
     "evalue": "sequence item 0: expected str instance, int found",
     "output_type": "error",
     "traceback": [
      "\u001b[1;31m---------------------------------------------------------------------------\u001b[0m",
      "\u001b[1;31mTypeError\u001b[0m                                 Traceback (most recent call last)",
      "\u001b[1;32m<ipython-input-52-fe5212a93aa1>\u001b[0m in \u001b[0;36m<module>\u001b[1;34m\u001b[0m\n\u001b[0;32m     39\u001b[0m \u001b[1;33m\u001b[0m\u001b[0m\n\u001b[0;32m     40\u001b[0m \u001b[0mres\u001b[0m\u001b[1;33m.\u001b[0m\u001b[0mappend\u001b[0m\u001b[1;33m(\u001b[0m\u001b[0mtotalCoveredPopulation\u001b[0m\u001b[1;33m)\u001b[0m\u001b[1;33m\u001b[0m\u001b[1;33m\u001b[0m\u001b[0m\n\u001b[1;32m---> 41\u001b[1;33m \u001b[0mprint\u001b[0m\u001b[1;33m(\u001b[0m\u001b[1;34m' '\u001b[0m\u001b[1;33m.\u001b[0m\u001b[0mjoin\u001b[0m\u001b[1;33m(\u001b[0m\u001b[0mres\u001b[0m\u001b[1;33m)\u001b[0m\u001b[1;33m)\u001b[0m\u001b[1;33m\u001b[0m\u001b[1;33m\u001b[0m\u001b[0m\n\u001b[0m",
      "\u001b[1;31mTypeError\u001b[0m: sequence item 0: expected str instance, int found"
     ]
    }
   ],
   "source": [
    "def isCovered(t1, t2):\n",
    "    global d\n",
    "    x1, y1 = t1[0:2]\n",
    "    x2, y2 = t2[0:2]\n",
    "    distance = ((x1-x2)**2 +(y1-y2)**2)**(1/2)\n",
    "    if distance <= d:\n",
    "        return True\n",
    "    else:\n",
    "        return False\n",
    "\n",
    "n, p, d = [int(i) for i in input().split()]\n",
    "towns = {i+1: [int(info) for info in input().split()] for i in range(n)}\n",
    "\n",
    "res = []\n",
    "totalCoveredPopulation = 0\n",
    "townsCoveredIdxes = []\n",
    "for i in range(p):\n",
    "    mostCoveredPopulation = 0\n",
    "    for townCurrentIdx, townCurrent in towns.items():\n",
    "        if townCurrentIdx in res:\n",
    "            continue\n",
    "        else:\n",
    "            currentCovered = 0\n",
    "            townsCoveredIdx = []\n",
    "            for townComparedIdx, townCompared in towns.items():\n",
    "                if townComparedIdx in townsCoveredIdx:\n",
    "                    continue\n",
    "                else:\n",
    "                    if isCovered(townCurrent, townCompared):\n",
    "                        currentCovered += townCompared[2]\n",
    "                        townsCoveredIdx.append(townComparedIdx)\n",
    "            if currentCovered > mostCoveredPopulation:\n",
    "                mostCoveredPopulation = currentCovered\n",
    "    \n",
    "    print('number {}, town {} , population {}'.format(i, townCurrentIdx, mostCoveredPopulation))\n",
    "    res.append(str(townCurrentIdx))\n",
    "    totalCoveredPopulation += mostCoveredPopulation\n",
    "    townsCoveredIdxes += townsCoveredIdx\n",
    "\n",
    "res.append(str(totalCoveredPopulation))\n",
    "print(' '.join(res))\n"
   ]
  },
  {
   "cell_type": "code",
   "execution_count": null,
   "metadata": {},
   "outputs": [],
   "source": []
  }
 ],
 "metadata": {
  "kernelspec": {
   "display_name": "Python 3",
   "language": "python",
   "name": "python3"
  },
  "language_info": {
   "codemirror_mode": {
    "name": "ipython",
    "version": 3
   },
   "file_extension": ".py",
   "mimetype": "text/x-python",
   "name": "python",
   "nbconvert_exporter": "python",
   "pygments_lexer": "ipython3",
   "version": "3.7.3"
  }
 },
 "nbformat": 4,
 "nbformat_minor": 2
}
