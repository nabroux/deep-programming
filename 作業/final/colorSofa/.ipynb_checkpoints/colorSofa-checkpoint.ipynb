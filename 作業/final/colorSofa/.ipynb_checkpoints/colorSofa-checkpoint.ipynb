{
 "cells": [
  {
   "cell_type": "markdown",
   "metadata": {},
   "source": [
    "# 105306076 資管四 許雲輔 colorSofa\n",
    "\n",
    "Lyto Different Color"
   ]
  },
  {
   "cell_type": "code",
   "execution_count": 1,
   "metadata": {},
   "outputs": [],
   "source": [
    "import time\n",
    "import win32gui, win32ui, win32con, win32api\n",
    "import numpy as np\n",
    "import cv2\n",
    "import pyautogui"
   ]
  },
  {
   "cell_type": "code",
   "execution_count": 2,
   "metadata": {},
   "outputs": [],
   "source": [
    "GRIDSIZE = 10\n",
    "X = 735\n",
    "Y = 500\n",
    "W = 420\n",
    "H = 420"
   ]
  },
  {
   "cell_type": "code",
   "execution_count": 3,
   "metadata": {},
   "outputs": [],
   "source": [
    "def window_capture(filename):\n",
    "    hwnd = 0\n",
    "    hwndDC = win32gui.GetWindowDC(hwnd)\n",
    "    mfcDC = win32ui.CreateDCFromHandle(hwndDC)\n",
    "    saveDC = mfcDC.CreateCompatibleDC()\n",
    "    saveBitMap = win32ui.CreateBitmap()\n",
    "\n",
    "    MoniterDev = win32api.EnumDisplayMonitors(None, None)\n",
    "    w = MoniterDev[0][2][2]\n",
    "    h = MoniterDev[0][2][3]\n",
    "\n",
    "    saveBitMap.CreateCompatibleBitmap(mfcDC, w, h)\n",
    "    saveDC.SelectObject(saveBitMap)\n",
    "    saveDC.BitBlt((0, 0), (w, h), mfcDC, (0, 0), win32con.SRCCOPY)\n",
    "    saveBitMap.SaveBitmapFile(saveDC, filename)\n",
    "    \n",
    "def crop_roi(image):\n",
    "    global X, Y, H, W\n",
    "    new_img = image[Y:Y+H, X:X+W]\n",
    "    return new_img\n",
    "\n",
    "def isNotBackground(pixel):\n",
    "    score = 0\n",
    "    bg_color = (53, 34, 42)\n",
    "    for i in range(3):\n",
    "        p = pixel[i]\n",
    "        b = bg_color[i]\n",
    "        if abs(p-b) < 10:\n",
    "            score += 1\n",
    "    if score < 3:\n",
    "        return True\n",
    "    else:\n",
    "        return False\n",
    "    \n",
    "def findAnswerColor(color_dict):\n",
    "    answerIdx = list(color_dict.values()).index(min(color_dict.values()))\n",
    "    answerColor = list(color_dict.keys())[answerIdx]\n",
    "    return answerColor\n",
    "\n",
    "def findAnswerCoord(answerColor, roi_flatten_list):\n",
    "    global W, GRIDSIZE\n",
    "    \n",
    "    firstIdx = roi_flatten_list.index(answerColor)\n",
    "    lastIdx = firstIdx\n",
    "    while True:\n",
    "        idx = lastIdx\n",
    "        try:\n",
    "            idx = roi_flatten_list.index(answerColor, idx+1)\n",
    "        except:\n",
    "            idx = -1\n",
    "        if idx != -1:\n",
    "            lastIdx = idx\n",
    "        else:\n",
    "            break\n",
    "            \n",
    "    rowLength = W / GRIDSIZE\n",
    "    y_first = firstIdx // rowLength\n",
    "    x_first = firstIdx % rowLength\n",
    "    y_last = lastIdx // rowLength\n",
    "    x_last = lastIdx % rowLength\n",
    "    \n",
    "    x = (x_first + x_last) / 2 * GRIDSIZE\n",
    "    y = (y_first + y_last) / 2 * GRIDSIZE\n",
    "    \n",
    "    return(int(x), int(y))\n",
    "\n",
    "def getColorList(roi_flatten_list):\n",
    "    noBgColor = True\n",
    "    color_list = []\n",
    "    for color in list(set(roi_flatten_list)):\n",
    "        if isNotBackground(color):\n",
    "            color_list.append(color)\n",
    "        else:\n",
    "            noBgColor = False\n",
    "            \n",
    "    if noBgColor:\n",
    "        raise RuntimeError\n",
    "        \n",
    "    return color_list\n",
    "\n",
    "def run():\n",
    "    global X, Y\n",
    "    \n",
    "    window_capture(\"haha.jpg\")\n",
    "    image = cv2.imread('haha.jpg')\n",
    "    roi = crop_roi(image)\n",
    "    \n",
    "    roi_flatten_list = [tuple(pixel) for row in roi[::GRIDSIZE] for pixel in row[::GRIDSIZE]]\n",
    "    roi_color_list = getColorList(roi_flatten_list)\n",
    "    \n",
    "    color_dict = {}\n",
    "    for color in roi_color_list:\n",
    "        if color not in color_dict:\n",
    "            count = roi_flatten_list.count(color)\n",
    "            if count > len(roi_flatten_list) / 100:\n",
    "                color_dict[color] = count\n",
    "                \n",
    "    answerColor = findAnswerColor(color_dict)\n",
    "    answerX, answerY = findAnswerCoord(answerColor, roi_flatten_list)\n",
    "    answerX += X\n",
    "    answerY += Y\n",
    "    \n",
    "    pyautogui.click(x=answerX, y=answerY)\n",
    "    "
   ]
  },
  {
   "cell_type": "code",
   "execution_count": 11,
   "metadata": {},
   "outputs": [
    {
     "name": "stdout",
     "output_type": "stream",
     "text": [
      "Done\n"
     ]
    }
   ],
   "source": [
    "time.sleep(8)\n",
    "for i in range(50):\n",
    "    time.sleep(0.1) \n",
    "    run()\n",
    "    time.sleep(0.1) \n",
    "    \n",
    "print('Done')"
   ]
  },
  {
   "cell_type": "code",
   "execution_count": null,
   "metadata": {},
   "outputs": [],
   "source": []
  }
 ],
 "metadata": {
  "kernelspec": {
   "display_name": "Python 3",
   "language": "python",
   "name": "python3"
  },
  "language_info": {
   "codemirror_mode": {
    "name": "ipython",
    "version": 3
   },
   "file_extension": ".py",
   "mimetype": "text/x-python",
   "name": "python",
   "nbconvert_exporter": "python",
   "pygments_lexer": "ipython3",
   "version": "3.7.3"
  }
 },
 "nbformat": 4,
 "nbformat_minor": 2
}
