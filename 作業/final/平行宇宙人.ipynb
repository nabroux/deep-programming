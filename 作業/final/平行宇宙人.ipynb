{
 "cells": [
  {
   "cell_type": "markdown",
   "metadata": {},
   "source": [
    "# 105306076 資管四 許雲輔 平行宇宙的你"
   ]
  },
  {
   "cell_type": "code",
   "execution_count": 19,
   "metadata": {},
   "outputs": [
    {
     "name": "stdout",
     "output_type": "stream",
     "text": [
      "平行宇宙的你/妳\n",
      "你叫什麼名字： 許雲輔\n",
      "\n",
      "【來自937號地球的許雲輔.....攻擊力為302，防禦力為146，是個農民。】\n"
     ]
    }
   ],
   "source": [
    "import random\n",
    "\n",
    "class MultiverseYou():\n",
    "    def __init__(self, earth, name):\n",
    "        self.earth = earth\n",
    "        self.name = name\n",
    "        self.atk = random.randint(100,1000)\n",
    "        self.defe = random.randint(100,1000)\n",
    "        abi = self.atk + self.defe\n",
    "        if abi <= 500:\n",
    "            self.occu = '農民'\n",
    "        elif abi <= 800:\n",
    "            self.occu = '戰士'\n",
    "        elif abi <= 1200:\n",
    "            self.occu = '騎士'\n",
    "        elif abi <= 1800:\n",
    "            self.occu = '貴族'\n",
    "        elif abi <= 2000:\n",
    "            self.occu = '國王'\n",
    "    def show_info(self):\n",
    "        print('\\n【來自{}號地球的{}.....攻擊力為{}，防禦力為{}，是個{}。】'.format(self.earth, self.name,\n",
    "                                                         self.atk, self.defe, self.occu))\n",
    "        \n",
    "print('平行宇宙的你/妳')\n",
    "\n",
    "name = input('你叫什麼名字： ')\n",
    "earth = random.randint(2,1001)\n",
    "multiverse_you = MultiverseYou(earth, name)\n",
    "multiverse_you.show_info()"
   ]
  }
 ],
 "metadata": {
  "kernelspec": {
   "display_name": "Python 3",
   "language": "python",
   "name": "python3"
  },
  "language_info": {
   "codemirror_mode": {
    "name": "ipython",
    "version": 3
   },
   "file_extension": ".py",
   "mimetype": "text/x-python",
   "name": "python",
   "nbconvert_exporter": "python",
   "pygments_lexer": "ipython3",
   "version": "3.7.3"
  }
 },
 "nbformat": 4,
 "nbformat_minor": 2
}
