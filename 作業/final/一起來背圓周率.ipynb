{
 "cells": [
  {
   "cell_type": "markdown",
   "metadata": {},
   "source": [
    "# 105306076 資管四 許雲輔 一起來背圓周率"
   ]
  },
  {
   "cell_type": "code",
   "execution_count": 10,
   "metadata": {},
   "outputs": [
    {
     "name": "stdout",
     "output_type": "stream",
     "text": [
      "一起來背圓周率吧！輸入你背的圓周率，看看你得幾分！\n",
      "你的圓周率：3.141592653589793238462643383279502884197169399375105820974944\n",
      "【你的得分： 61  你的正確率： 98.38709677419355 %】\n"
     ]
    }
   ],
   "source": [
    "import sympy as sp\n",
    "point = 0\n",
    "\n",
    "print('一起來背圓周率吧！輸入你背的圓周率，看看你得幾分！')\n",
    "user_pi = input('你的圓周率：')\n",
    "answer = str(sp.pi.n(len(user_pi)-1))\n",
    "\n",
    "for i in range(len(user_pi)):\n",
    "    if user_pi[i] == answer[i]:\n",
    "        point += 1\n",
    "\n",
    "print('【你的得分：', point, ' 你的正確率：', point/len(answer)*100, '%】')"
   ]
  }
 ],
 "metadata": {
  "kernelspec": {
   "display_name": "Python 3",
   "language": "python",
   "name": "python3"
  },
  "language_info": {
   "codemirror_mode": {
    "name": "ipython",
    "version": 3
   },
   "file_extension": ".py",
   "mimetype": "text/x-python",
   "name": "python",
   "nbconvert_exporter": "python",
   "pygments_lexer": "ipython3",
   "version": "3.7.3"
  }
 },
 "nbformat": 4,
 "nbformat_minor": 2
}
