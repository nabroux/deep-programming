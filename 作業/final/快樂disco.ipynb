{
 "cells": [
  {
   "cell_type": "markdown",
   "metadata": {},
   "source": [
    "# 快樂迪斯可空間 105306076 資管四 許雲輔\n",
    "\n",
    "#### 選擇迪斯可燈的數量、燈閃的次數，按下互動吧"
   ]
  },
  {
   "cell_type": "code",
   "execution_count": 2,
   "metadata": {},
   "outputs": [],
   "source": [
    "%matplotlib inline\n",
    "import numpy as np\n",
    "import matplotlib.pyplot as plt\n",
    "import seaborn as sns\n",
    "import time\n",
    "from ipywidgets import interact, interact_manual"
   ]
  },
  {
   "cell_type": "code",
   "execution_count": 5,
   "metadata": {
    "scrolled": false
   },
   "outputs": [
    {
     "data": {
      "application/vnd.jupyter.widget-view+json": {
       "model_id": "731dc869c9a34cbdb2d3be59b63458a2",
       "version_major": 2,
       "version_minor": 0
      },
      "text/plain": [
       "interactive(children=(IntSlider(value=45, description='number', max=70, min=20), Output()), _dom_classes=('wid…"
      ]
     },
     "metadata": {},
     "output_type": "display_data"
    },
    {
     "data": {
      "application/vnd.jupyter.widget-view+json": {
       "model_id": "62ab82582d3b4513a07360446bf1c52d",
       "version_major": 2,
       "version_minor": 0
      },
      "text/plain": [
       "interactive(children=(IntSlider(value=25, description='times', max=50, min=1), Button(description='Run Interac…"
      ]
     },
     "metadata": {},
     "output_type": "display_data"
    },
    {
     "data": {
      "text/plain": [
       "<function __main__.disco(times)>"
      ]
     },
     "execution_count": 5,
     "metadata": {},
     "output_type": "execute_result"
    }
   ],
   "source": [
    "num = 50\n",
    "\n",
    "def set_num(number):\n",
    "    global num\n",
    "    num = number\n",
    "\n",
    "def disco(times):\n",
    "    for i in range(times):\n",
    "        x = np.random.randint(1, 100, num)\n",
    "        y = np.random.randint(1, 100, num)\n",
    "        color = np.random.randint(1, 9, num)\n",
    "        size = np.random.randint(1000, 50000, num)\n",
    "\n",
    "        sns.set(rc={'figure.figsize':(15, 7)})\n",
    "        f_color = np.random.choice(['yellow', 'black', 'purple'])\n",
    "        plt.figure(facecolor=f_color)\n",
    "        plt.axis('off')\n",
    "        plt.scatter(x, y, c=color, s=size, alpha=0.5, cmap='Set2')\n",
    "        plt.show()\n",
    "        time.sleep(1)\n",
    "\n",
    "interact(set_num, number=(20, 70))\n",
    "interact_manual(disco, times=(1, 50))"
   ]
  }
 ],
 "metadata": {
  "kernelspec": {
   "display_name": "Python 3",
   "language": "python",
   "name": "python3"
  },
  "language_info": {
   "codemirror_mode": {
    "name": "ipython",
    "version": 3
   },
   "file_extension": ".py",
   "mimetype": "text/x-python",
   "name": "python",
   "nbconvert_exporter": "python",
   "pygments_lexer": "ipython3",
   "version": "3.7.3"
  }
 },
 "nbformat": 4,
 "nbformat_minor": 2
}
