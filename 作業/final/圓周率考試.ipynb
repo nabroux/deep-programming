{
 "cells": [
  {
   "cell_type": "markdown",
   "metadata": {},
   "source": [
    "# 105306076 資管四 許雲輔 圓周率考試"
   ]
  },
  {
   "cell_type": "code",
   "execution_count": 5,
   "metadata": {},
   "outputs": [
    {
     "name": "stdout",
     "output_type": "stream",
     "text": [
      "一起來背圓周率吧！輸入你背的圓周率，看看你得幾分！\n",
      "你的圓周率：3.14156734503425\n",
      "【不及格，0 分，你的正確率 37.5 %】\n"
     ]
    }
   ],
   "source": [
    "import sympy as sp\n",
    "point = 0\n",
    "\n",
    "print('一起來背圓周率吧！輸入你背的圓周率，看看你得幾分！')\n",
    "user_pi = input('你的圓周率：')\n",
    "answer = str(sp.pi.n(len(user_pi)-1))\n",
    "\n",
    "for i in range(len(user_pi)):\n",
    "    if user_pi[i] == answer[i]:\n",
    "        point += 1\n",
    "\n",
    "ratio = point/len(answer)*100\n",
    "if ratio < 60:\n",
    "    print('【不及格，0 分，你的正確率', ratio,'%】')\n",
    "else:\n",
    "    print('【你的得分：', point, ' 你的正確率：', ratio, '%】')"
   ]
  }
 ],
 "metadata": {
  "kernelspec": {
   "display_name": "Python 3",
   "language": "python",
   "name": "python3"
  },
  "language_info": {
   "codemirror_mode": {
    "name": "ipython",
    "version": 3
   },
   "file_extension": ".py",
   "mimetype": "text/x-python",
   "name": "python",
   "nbconvert_exporter": "python",
   "pygments_lexer": "ipython3",
   "version": "3.7.3"
  }
 },
 "nbformat": 4,
 "nbformat_minor": 2
}
