{
 "cells": [
  {
   "cell_type": "markdown",
   "metadata": {},
   "source": [
    "# 資管四 105306076 許雲輔 會動的水彩\n",
    "即時抓取webcam影像，根據抓出來的frame 隨機取點，讀出該點 B,G,R 值，\n",
    "\n",
    "再於另一畫布上同一位置(x,y)畫出同一顏色(b,g,r)，但大小(size)隨機的圓形，\n",
    "\n",
    "讓for迴圈每次重複畫大量點，最後呈現的效果很酷，有點像會動的水彩畫!"
   ]
  },
  {
   "cell_type": "code",
   "execution_count": 3,
   "metadata": {},
   "outputs": [],
   "source": [
    "%matplotlib notebook\n",
    "import cv2\n",
    "import numpy as np\n",
    "\n",
    "minSize, maxSize = 1, 10\n",
    "speed = 3000\n",
    "\n",
    "width, height = 1280, 720\n",
    "cam = cv2.VideoCapture(0)\n",
    "cam.set(3, width)\n",
    "cam.set(4, height)\n",
    "canvas = np.zeros((height, width, 3), np.uint8)\n",
    "\n",
    "def draw_canvas(frame):\n",
    "    global canvas\n",
    "    x = np.random.randint(width)\n",
    "    y = np.random.randint(height)\n",
    "    size = np.random.randint(minSize, maxSize)\n",
    "    pixel = frame[y, x]\n",
    "    pixel = [int(i) for i in pixel]\n",
    "    cv2.circle(canvas, (x, y), size, pixel, -1)\n",
    "    \n",
    "def show_webcam(mirror=False):\n",
    "    while True:\n",
    "        ret_val, img = cam.read()\n",
    "        if mirror: \n",
    "            img = cv2.flip(img, 1)\n",
    "        \n",
    "        for i in range(speed):\n",
    "            draw_canvas(img)\n",
    "        cv2.imshow('my canvas', canvas)\n",
    "\n",
    "        if cv2.waitKey(1) == 27: \n",
    "            break  # esc to quit\n",
    "    cv2.destroyAllWindows()\n",
    "    cam.release()\n",
    "    \n",
    "\n",
    "show_webcam(mirror=True)"
   ]
  },
  {
   "cell_type": "code",
   "execution_count": null,
   "metadata": {},
   "outputs": [],
   "source": []
  }
 ],
 "metadata": {
  "kernelspec": {
   "display_name": "Python 3",
   "language": "python",
   "name": "python3"
  },
  "language_info": {
   "codemirror_mode": {
    "name": "ipython",
    "version": 3
   },
   "file_extension": ".py",
   "mimetype": "text/x-python",
   "name": "python",
   "nbconvert_exporter": "python",
   "pygments_lexer": "ipython3",
   "version": "3.7.3"
  }
 },
 "nbformat": 4,
 "nbformat_minor": 2
}
