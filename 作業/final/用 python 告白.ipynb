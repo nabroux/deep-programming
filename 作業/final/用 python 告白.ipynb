{
 "cells": [
  {
   "cell_type": "markdown",
   "metadata": {},
   "source": [
    "# 資管四 105306076 許雲輔 - 用 python 告白"
   ]
  },
  {
   "cell_type": "code",
   "execution_count": 3,
   "metadata": {},
   "outputs": [
    {
     "name": "stdout",
     "output_type": "stream",
     "text": [
      "請輸入告白內容(英文比較不會跑版): I love Python\n",
      "\n",
      "\n",
      "\n",
      "                IIIIIIIII           IIIIIIIII               \n",
      "            IIIIIIIIIIIIIIIII   IIIIIIIIIIIIIIIII           \n",
      "          IIIIIIIIIIIIIIIIIIIIIIIIIIIIIIIIIIIIIIIII         \n",
      "         IIIIIIIIIIIIIIIIIIIIIIIIIIIIIIIIIIIIIIIIIII        \n",
      "        IIIIIIIIIIIIIIIIIIIIIIIIIIIIIIIIIIIIIIIIIIIII       \n",
      "        IIIIIIIIIIIIIIIIIIIIIIIIIIIIIIIIIIIIIIIIIIIII       \n",
      "        IIIIIIIIIIIIIIIIIIIIIIIIIIIIIIIIIIIIIIIIIIIII       \n",
      "        IIIIIIIIIIIIIIIIIIIIIIIIIIIIIIIIIIIIIIIIIIIII       \n",
      "        IIIIIIIIIIIIIIIIIIIIIIIIIIIIIIIIIIIIIIIIIIIII       \n",
      "        IIIIIIIIIIIIIIIIIIIIIIIIIIIIIIIIIIIIIIIIIIIII       \n",
      "         IIIIIIIIIIIIIIIIIIIIIIIIIIIIIIIIIIIIIIIIIII        \n",
      "          IIIIIIIIIIIIIIIIIIIIIIIIIIIIIIIIIIIIIIIII         \n",
      "          IIIIIIIIIIIIIIIIIIIIIIIIIIIIIIIIIIIIIIIII         \n",
      "            IIIIIIIIIIIIIIIIIIIIIIIIIIIIIIIIIIIII           \n",
      "             IIIIIIIIIIIIIIIIIIIIIIIIIIIIIIIIIII            \n",
      "              IIIIIIIIIIIIIIIIIIIIIIIIIIIIIIIII             \n",
      "                IIIIIIIIIIIIIIIIIIIIIIIIIIIII               \n",
      "                  IIIIIIIIIIIIIIIIIIIIIIIII                 \n",
      "                    IIIIIIIIIIIIIIIIIIIII                   \n",
      "                       IIIIIIIIIIIIIII                      \n",
      "                          IIIIIIIII                         \n",
      "                             III                            \n",
      "                              I                             \n",
      "                                                            \n",
      "                velovelov           velovelov               \n",
      "            elovelovelovelove   elovelovelovelove           \n",
      "          velovelovelovelovelovelovelovelovelovelov         \n",
      "         velovelovelovelovelovelovelovelovelovelovel        \n",
      "        velovelovelovelovelovelovelovelovelovelovelov       \n",
      "        elovelovelovelovelovelovelovelovelovelovelove       \n",
      "        lovelovelovelovelovelovelovelovelovelovelovel       \n",
      "        ovelovelovelovelovelovelovelovelovelovelovelo       \n",
      "        velovelovelovelovelovelovelovelovelovelovelov       \n",
      "        elovelovelovelovelovelovelovelovelovelovelove       \n",
      "         ovelovelovelovelovelovelovelovelovelovelove        \n",
      "          elovelovelovelovelovelovelovelovelovelove         \n",
      "          lovelovelovelovelovelovelovelovelovelovel         \n",
      "            elovelovelovelovelovelovelovelovelove           \n",
      "             ovelovelovelovelovelovelovelovelove            \n",
      "              elovelovelovelovelovelovelovelove             \n",
      "                velovelovelovelovelovelovelov               \n",
      "                  ovelovelovelovelovelovelo                 \n",
      "                    lovelovelovelovelovel                   \n",
      "                       lovelovelovelov                      \n",
      "                          lovelovel                         \n",
      "                             lov                            \n",
      "                              v                             \n",
      "                                                            \n",
      "                onPythonP           PythonPyt               \n",
      "            ythonPythonPython   honPythonPythonPy           \n",
      "          PythonPythonPythonPythonPythonPythonPytho         \n",
      "         PythonPythonPythonPythonPythonPythonPythonP        \n",
      "        PythonPythonPythonPythonPythonPythonPythonPyt       \n",
      "        ythonPythonPythonPythonPythonPythonPythonPyth       \n",
      "        thonPythonPythonPythonPythonPythonPythonPytho       \n",
      "        honPythonPythonPythonPythonPythonPythonPython       \n",
      "        onPythonPythonPythonPythonPythonPythonPythonP       \n",
      "        nPythonPythonPythonPythonPythonPythonPythonPy       \n",
      "         ythonPythonPythonPythonPythonPythonPythonPy        \n",
      "          honPythonPythonPythonPythonPythonPythonPy         \n",
      "          onPythonPythonPythonPythonPythonPythonPyt         \n",
      "            ythonPythonPythonPythonPythonPythonPy           \n",
      "             honPythonPythonPythonPythonPythonPy            \n",
      "              nPythonPythonPythonPythonPythonPy             \n",
      "                thonPythonPythonPythonPythonP               \n",
      "                  nPythonPythonPythonPython                 \n",
      "                    thonPythonPythonPytho                   \n",
      "                       PythonPythonPyt                      \n",
      "                          onPythonP                         \n",
      "                             tho                            \n",
      "                              o                             \n",
      "                                                            \n"
     ]
    }
   ],
   "source": [
    "words = input('請輸入告白內容(英文比較不會跑版): ')\n",
    "print('\\n\\n')\n",
    "\n",
    "num = 0.05\n",
    "for item in words.split():\n",
    "    print('\\n'.join([''.join([(item[(x-y) % len(item)]if\n",
    "        (( x * num)**2 + (y*0.1)**2 - 1)**3 - (x * num)**2 * (y*0.1)**3 <= 0 else ' ')\n",
    "    \n",
    "    for x in range(-30, 30)]) for y in range(12, -12, -1)]))\n"
   ]
  }
 ],
 "metadata": {
  "kernelspec": {
   "display_name": "Python 3",
   "language": "python",
   "name": "python3"
  },
  "language_info": {
   "codemirror_mode": {
    "name": "ipython",
    "version": 3
   },
   "file_extension": ".py",
   "mimetype": "text/x-python",
   "name": "python",
   "nbconvert_exporter": "python",
   "pygments_lexer": "ipython3",
   "version": "3.7.3"
  }
 },
 "nbformat": 4,
 "nbformat_minor": 2
}
