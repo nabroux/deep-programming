{
 "cells": [
  {
   "cell_type": "markdown",
   "metadata": {},
   "source": [
    "# 105306076 資管四 許雲輔 左一拳右一拳"
   ]
  },
  {
   "cell_type": "code",
   "execution_count": 5,
   "metadata": {},
   "outputs": [
    {
     "name": "stdout",
     "output_type": "stream",
     "text": [
      "來玩左一拳、右一拳吧！\n",
      "<左一拳> 1:剪刀 2:石頭 3:布  1\n",
      "電腦左一拳出了【剪刀】\n",
      "<右一拳> 1:剪刀 2:石頭 3:布  2\n",
      "電腦右一拳出了【剪刀】\n",
      "\n",
      "你的左一拳：剪刀，你的右一拳：石頭\n",
      "電腦左一拳：剪刀，電腦右一拳：剪刀\n",
      "<大家一起收一拳>  1:左 2:右  1\n",
      "電腦收了【左一拳】\n",
      "\n",
      "石頭 v.s 剪刀\n",
      "你贏了\n"
     ]
    }
   ],
   "source": [
    "import random\n",
    "gesture = ['剪刀','石頭','布']\n",
    "\n",
    "print('來玩左一拳、右一拳吧！')\n",
    "while True:\n",
    "    player = []\n",
    "    com = []\n",
    "    playerLeft = int(input('<左一拳> 1:剪刀 2:石頭 3:布  '))\n",
    "    comLeft = random.randint(1,3)\n",
    "    player.append(playerLeft)\n",
    "    com.append(comLeft)\n",
    "    print('電腦左一拳出了【'+ gesture[comLeft-1]+'】')\n",
    "    \n",
    "    playerRight = int(input('<右一拳> 1:剪刀 2:石頭 3:布  '))\n",
    "    comRight = random.randint(1,3)\n",
    "    player.append(playerRight)\n",
    "    com.append(comRight)\n",
    "    print('電腦右一拳出了【'+ gesture[comRight-1]+'】')\n",
    "    \n",
    "    message = '\\n你的左一拳：{}，你的右一拳：{}\\n電腦左一拳：{}，電腦右一拳：{}'\n",
    "    print(message.format(gesture[playerLeft-1], gesture[playerRight-1], gesture[comLeft-1], gesture[comRight-1]))\n",
    "    playerBack = int(input('<大家一起收一拳>  1:左 2:右  '))\n",
    "    comBack = random.randint(0,1)\n",
    "    if comBack == 0:\n",
    "        print('電腦收了【左一拳】')\n",
    "    else:\n",
    "        print('電腦收了【右一拳】')\n",
    "    del player[playerBack-1]\n",
    "    del com[comBack]\n",
    "    \n",
    "    print('\\n{} v.s {}'.format(gesture[player[0]-1], gesture[com[0]-1]))\n",
    "    if player[0] == com[0]:\n",
    "        print('平手，再一次')\n",
    "    elif player[0] == com[0]-1:\n",
    "        print('你輸了')\n",
    "        break\n",
    "    elif player[0] == 3 and com[0] == 1:\n",
    "        print('你輸了')\n",
    "        break\n",
    "    else:\n",
    "        print('你贏了')\n",
    "        break"
   ]
  }
 ],
 "metadata": {
  "kernelspec": {
   "display_name": "Python 3",
   "language": "python",
   "name": "python3"
  },
  "language_info": {
   "codemirror_mode": {
    "name": "ipython",
    "version": 3
   },
   "file_extension": ".py",
   "mimetype": "text/x-python",
   "name": "python",
   "nbconvert_exporter": "python",
   "pygments_lexer": "ipython3",
   "version": "3.7.3"
  }
 },
 "nbformat": 4,
 "nbformat_minor": 2
}
