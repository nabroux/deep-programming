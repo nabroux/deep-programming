{
 "cells": [
  {
   "cell_type": "markdown",
   "metadata": {},
   "source": [
    "# 105306076 資管四 許雲輔 終極密碼模擬器"
   ]
  },
  {
   "cell_type": "code",
   "execution_count": 2,
   "metadata": {},
   "outputs": [
    {
     "name": "stdout",
     "output_type": "stream",
     "text": [
      "【歡迎來到終極密碼模擬器】\n",
      "請設定答案(1~99)： 54\n",
      "請輸入玩家們的名稱，用空白分隔： 林少貓 柯鐵虎 簡大獅\n",
      "\n",
      " [系統訊息]林少貓's turn: 0 - 100.\n",
      "林少貓 guesses 22.\n",
      "[系統訊息]Failed! Guess larger.\n",
      "\n",
      " [系統訊息]柯鐵虎's turn: 23 - 100.\n",
      "柯鐵虎 guesses 33.\n",
      "[系統訊息]Failed! Guess larger.\n",
      "\n",
      " [系統訊息]簡大獅's turn: 34 - 100.\n",
      "簡大獅 guesses 72.\n",
      "[系統訊息]Failed! Guess smaller.\n",
      "\n",
      " [系統訊息]林少貓's turn: 34 - 71.\n",
      "林少貓 guesses 34.\n",
      "[系統訊息]Failed! Guess larger.\n",
      "\n",
      " [系統訊息]柯鐵虎's turn: 35 - 71.\n",
      "柯鐵虎 guesses 64.\n",
      "[系統訊息]Failed! Guess smaller.\n",
      "\n",
      " [系統訊息]簡大獅's turn: 35 - 63.\n",
      "簡大獅 guesses 36.\n",
      "[系統訊息]Failed! Guess larger.\n",
      "\n",
      " [系統訊息]林少貓's turn: 37 - 63.\n",
      "林少貓 guesses 47.\n",
      "[系統訊息]Failed! Guess larger.\n",
      "\n",
      " [系統訊息]柯鐵虎's turn: 48 - 63.\n",
      "柯鐵虎 guesses 63.\n",
      "[系統訊息]Failed! Guess smaller.\n",
      "\n",
      " [系統訊息]簡大獅's turn: 48 - 62.\n",
      "簡大獅 guesses 53.\n",
      "[系統訊息]Failed! Guess larger.\n",
      "\n",
      " [系統訊息]林少貓's turn: 54 - 62.\n",
      "林少貓 guesses 59.\n",
      "[系統訊息]Failed! Guess smaller.\n",
      "\n",
      " [系統訊息]柯鐵虎's turn: 54 - 58.\n",
      "柯鐵虎 guesses 54.\n",
      "[系統訊息]Bingo! The answer is 54.\n"
     ]
    }
   ],
   "source": [
    "import random\n",
    "min_num = 0\n",
    "max_num = 100\n",
    "\n",
    "print('【歡迎來到終極密碼模擬器】')\n",
    "answer = int(input('請設定答案(1~99)： '))\n",
    "players = input('請輸入玩家們的名稱，用空白分隔： ').split()\n",
    "playing = True\n",
    "\n",
    "while playing:\n",
    "    for player in players:\n",
    "        print('\\n [系統訊息]{}\\'s turn: {} - {}.'.format(player,min_num,max_num))\n",
    "        guess = random.randint(min_num,max_num)\n",
    "        print('{} guesses {}.'.format(player,guess))\n",
    "        \n",
    "        if guess == answer:\n",
    "            print('[系統訊息]Bingo! The answer is {}.'.format(answer))\n",
    "            playing = False\n",
    "            break\n",
    "        elif guess > answer:\n",
    "            print('[系統訊息]Failed! Guess smaller.')\n",
    "            max_num = guess - 1\n",
    "        else:\n",
    "            print('[系統訊息]Failed! Guess larger.')\n",
    "            min_num = guess + 1\n"
   ]
  },
  {
   "cell_type": "code",
   "execution_count": null,
   "metadata": {},
   "outputs": [],
   "source": []
  }
 ],
 "metadata": {
  "kernelspec": {
   "display_name": "Python 3",
   "language": "python",
   "name": "python3"
  },
  "language_info": {
   "codemirror_mode": {
    "name": "ipython",
    "version": 3
   },
   "file_extension": ".py",
   "mimetype": "text/x-python",
   "name": "python",
   "nbconvert_exporter": "python",
   "pygments_lexer": "ipython3",
   "version": "3.7.3"
  }
 },
 "nbformat": 4,
 "nbformat_minor": 2
}
