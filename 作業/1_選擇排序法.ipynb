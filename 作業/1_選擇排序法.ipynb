{
 "cells": [
  {
   "cell_type": "markdown",
   "metadata": {},
   "source": [
    "# 105306076 資管四 許雲輔 選擇排序法"
   ]
  },
  {
   "cell_type": "code",
   "execution_count": 19,
   "metadata": {},
   "outputs": [
    {
     "name": "stdout",
     "output_type": "stream",
     "text": [
      "原始資料: [1, 94, 49, 26, 96, 39, 5, 33, 7, 43]\n",
      "0 >> [1, 94, 49, 26, 96, 39, 5, 33, 7, 43]\n",
      "1 >> [1, 5, 49, 26, 96, 39, 94, 33, 7, 43]\n",
      "2 >> [1, 5, 7, 26, 96, 39, 94, 33, 49, 43]\n",
      "3 >> [1, 5, 7, 26, 96, 39, 94, 33, 49, 43]\n",
      "4 >> [1, 5, 7, 26, 33, 39, 94, 96, 49, 43]\n",
      "5 >> [1, 5, 7, 26, 33, 39, 94, 96, 49, 43]\n",
      "6 >> [1, 5, 7, 26, 33, 39, 43, 96, 49, 94]\n",
      "7 >> [1, 5, 7, 26, 33, 39, 43, 49, 96, 94]\n",
      "8 >> [1, 5, 7, 26, 33, 39, 43, 49, 94, 96]\n",
      "swap : 6\n",
      "選擇排序法資料: [1, 5, 7, 26, 33, 39, 43, 49, 94, 96]\n"
     ]
    }
   ],
   "source": [
    "import random\n",
    "\n",
    "unsortData = random.sample(range(100), 10)\n",
    "\n",
    "def selection_sort(L):\n",
    "    N = len(L)\n",
    "    exchanges_count = 0\n",
    "    \n",
    "    for i in range(N-1):\n",
    "        min_index = i\n",
    "        for j in range(i+1, N):\n",
    "            if L[min_index] > L[j]:\n",
    "                min_index = j\n",
    "                \n",
    "        if min_index != i:\n",
    "            L[min_index], L[i] = L[i], L[min_index]\n",
    "            exchanges_count += 1\n",
    "\n",
    "        print('{} >> {}'.format(i, L))\n",
    "    print('swap : {}'.format(exchanges_count))\n",
    "    \n",
    "    return L\n",
    "\n",
    "print (\"原始資料:\", unsortData)\n",
    "sortData = selection_sort(unsortData)\n",
    "print (\"選擇排序法資料:\", sortData)"
   ]
  },
  {
   "cell_type": "code",
   "execution_count": null,
   "metadata": {},
   "outputs": [],
   "source": []
  }
 ],
 "metadata": {
  "kernelspec": {
   "display_name": "Python 3",
   "language": "python",
   "name": "python3"
  },
  "language_info": {
   "codemirror_mode": {
    "name": "ipython",
    "version": 3
   },
   "file_extension": ".py",
   "mimetype": "text/x-python",
   "name": "python",
   "nbconvert_exporter": "python",
   "pygments_lexer": "ipython3",
   "version": "3.7.3"
  }
 },
 "nbformat": 4,
 "nbformat_minor": 2
}
