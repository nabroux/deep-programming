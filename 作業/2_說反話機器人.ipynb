{
 "cells": [
  {
   "cell_type": "markdown",
   "metadata": {},
   "source": [
    "# 105306076 資管四 許雲輔 說反話機器人"
   ]
  },
  {
   "cell_type": "code",
   "execution_count": 2,
   "metadata": {},
   "outputs": [
    {
     "name": "stdout",
     "output_type": "stream",
     "text": [
      "【歡迎來到說反話機器人！】\n",
      "系統：開始聊天吧！說掰掰即可離開對話～\n",
      "\n",
      "你：嗨\n",
      "機器人：嗨\n",
      "你：你好嗎\n",
      "機器人：嗎好你\n",
      "你：家樂福\n",
      "機器人：福樂家\n",
      "你：金色漁家\n",
      "機器人：家漁色金\n",
      "你：大熊比較懶\n",
      "機器人：懶較比熊大\n",
      "你：掰掰\n",
      "機器人：掰掰\n"
     ]
    }
   ],
   "source": [
    "print('【歡迎來到說反話機器人！】')\n",
    "print('系統：開始聊天吧！說掰掰即可離開對話～\\n')\n",
    "while True:\n",
    "    text = input('你：')\n",
    "    print('機器人：' + text[::-1])\n",
    "    if text == '掰掰':\n",
    "        break"
   ]
  }
 ],
 "metadata": {
  "kernelspec": {
   "display_name": "Python 3",
   "language": "python",
   "name": "python3"
  },
  "language_info": {
   "codemirror_mode": {
    "name": "ipython",
    "version": 3
   },
   "file_extension": ".py",
   "mimetype": "text/x-python",
   "name": "python",
   "nbconvert_exporter": "python",
   "pygments_lexer": "ipython3",
   "version": "3.7.3"
  }
 },
 "nbformat": 4,
 "nbformat_minor": 2
}
