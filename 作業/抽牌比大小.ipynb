{
 "cells": [
  {
   "cell_type": "markdown",
   "metadata": {},
   "source": [
    "# 105306076 資管四 許雲輔 抽牌比大小"
   ]
  },
  {
   "cell_type": "code",
   "execution_count": 20,
   "metadata": {},
   "outputs": [],
   "source": [
    "class Card():\n",
    "    \n",
    "    def __init__(self, suit, rank):\n",
    "        self.suit = suit\n",
    "        self.rank = rank\n",
    "        \n",
    "    def __repr__(self):\n",
    "        SUITS = [\"♣\", \"♦\", \"♥\", \"♠\"]\n",
    "        RANKS = ['A', '2', '3', '4', '5', '6', '7', '8', '9', '10', 'J', 'Q', 'K']\n",
    "        return SUITS[self.suit] + RANKS[self.rank]\n",
    "        "
   ]
  },
  {
   "cell_type": "code",
   "execution_count": 21,
   "metadata": {},
   "outputs": [
    {
     "name": "stdout",
     "output_type": "stream",
     "text": [
      "有抽就有抽從來沒有煙霧彈\n",
      "按 Enter 抽牌:\n",
      "你抽到了 ♦9\n",
      "電腦抽到了 ♥8\n",
      "\n",
      "你贏了！\n"
     ]
    }
   ],
   "source": [
    "import random\n",
    "\n",
    "cards = []\n",
    "\n",
    "for suit in range(4):\n",
    "    for rank in range(13):\n",
    "        card = Card(suit, rank)\n",
    "        cards.append(card)\n",
    "\n",
    "print('有抽就有抽從來沒有煙霧彈')\n",
    "input('按 Enter 抽牌:')\n",
    "player_card = random.choice(cards)\n",
    "cards.remove(player_card)\n",
    "computer_card = random.choice(cards)\n",
    "cards.remove(computer_card)\n",
    "print('你抽到了', player_card)\n",
    "print('電腦抽到了', computer_card)\n",
    "\n",
    "if player_card.rank > computer_card.rank:\n",
    "    print('\\n你贏了！')\n",
    "elif player_card.rank == computer_card.rank:\n",
    "    if player_card.suit > computer_card.suit:\n",
    "        print('\\n你贏了！')\n",
    "    else:\n",
    "        print('\\n你輸了！')\n",
    "else:\n",
    "    print('\\n你輸了！')"
   ]
  }
 ],
 "metadata": {
  "kernelspec": {
   "display_name": "Python 3",
   "language": "python",
   "name": "python3"
  },
  "language_info": {
   "codemirror_mode": {
    "name": "ipython",
    "version": 3
   },
   "file_extension": ".py",
   "mimetype": "text/x-python",
   "name": "python",
   "nbconvert_exporter": "python",
   "pygments_lexer": "ipython3",
   "version": "3.7.3"
  }
 },
 "nbformat": 4,
 "nbformat_minor": 2
}
