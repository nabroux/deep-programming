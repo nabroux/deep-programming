{
 "cells": [
  {
   "cell_type": "code",
   "execution_count": 1,
   "metadata": {},
   "outputs": [],
   "source": [
    "import time\n",
    "import win32gui, win32ui, win32con, win32api\n",
    "\n",
    "def window_capture(filename):\n",
    "    hwnd = 0 # 視窗的編號，0號表示當前活躍視窗\n",
    "\n",
    "    # 根據視窗控制代碼獲取視窗的裝置上下文DC（Divice Context）\n",
    "    hwndDC = win32gui.GetWindowDC(hwnd)\n",
    "\n",
    "    # 根據視窗的DC獲取mfcDC\n",
    "    mfcDC = win32ui.CreateDCFromHandle(hwndDC)\n",
    "\n",
    "    # mfcDC建立可相容的DC\n",
    "    saveDC = mfcDC.CreateCompatibleDC()\n",
    "\n",
    "    # 建立bigmap準備儲存圖片\n",
    "    saveBitMap = win32ui.CreateBitmap()\n",
    "\n",
    "    # 獲取監控器資訊\n",
    "    MoniterDev = win32api.EnumDisplayMonitors(None, None)\n",
    "    w = MoniterDev[0][2][2]\n",
    "    h = MoniterDev[0][2][3]\n",
    "\n",
    "    # print w,h　　　#圖片大小\n",
    "    # 為bitmap開闢空間\n",
    "    saveBitMap.CreateCompatibleBitmap(mfcDC, w, h)\n",
    "\n",
    "    # 高度saveDC，將截圖儲存到saveBitmap中\n",
    "    saveDC.SelectObject(saveBitMap)\n",
    "\n",
    "    # 擷取從左上角（0，0）長寬為（w，h）的圖片\n",
    "    saveDC.BitBlt((0, 0), (w, h), mfcDC, (0, 0), win32con.SRCCOPY)\n",
    "    saveBitMap.SaveBitmapFile(saveDC, filename)\n"
   ]
  },
  {
   "cell_type": "code",
   "execution_count": 4,
   "metadata": {},
   "outputs": [
    {
     "name": "stdout",
     "output_type": "stream",
     "text": [
      "0.02789473533630371\n",
      "0.053826332092285156\n",
      "0.08205080032348633\n",
      "0.10000109672546387\n",
      "0.11595869064331055\n",
      "0.14009833335876465\n",
      "0.1652836799621582\n",
      "0.1820967197418213\n",
      "0.1991128921508789\n",
      "0.21536970138549805\n"
     ]
    }
   ],
   "source": [
    "beg = time.time()\n",
    "for i in range(10):\n",
    "    window_capture(\"haha.jpg\")\n",
    "    end = time.time()\n",
    "    print(end - beg)"
   ]
  },
  {
   "cell_type": "code",
   "execution_count": 1,
   "metadata": {},
   "outputs": [],
   "source": [
    "import cv2\n",
    "\n",
    "image = cv2.imread('haha.jpg')\n",
    "cv2.imshow('test', image)\n",
    "\n",
    "k = cv2.waitKey(0)\n",
    "cv2.destroyAllWindows()"
   ]
  },
  {
   "cell_type": "code",
   "execution_count": null,
   "metadata": {},
   "outputs": [],
   "source": []
  }
 ],
 "metadata": {
  "kernelspec": {
   "display_name": "Python 3",
   "language": "python",
   "name": "python3"
  },
  "language_info": {
   "codemirror_mode": {
    "name": "ipython",
    "version": 3
   },
   "file_extension": ".py",
   "mimetype": "text/x-python",
   "name": "python",
   "nbconvert_exporter": "python",
   "pygments_lexer": "ipython3",
   "version": "3.7.3"
  }
 },
 "nbformat": 4,
 "nbformat_minor": 2
}
