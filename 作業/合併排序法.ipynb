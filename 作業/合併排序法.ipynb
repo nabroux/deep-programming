{
 "cells": [
  {
   "cell_type": "markdown",
   "metadata": {},
   "source": [
    "# 105306076 資管四 許雲輔 合併排序"
   ]
  },
  {
   "cell_type": "code",
   "execution_count": 13,
   "metadata": {},
   "outputs": [
    {
     "name": "stdout",
     "output_type": "stream",
     "text": [
      "原始資料: [19, 32, 45, 51, 35, 50, 29, 12, 22, 72]\n",
      "合併排序法資料: [12, 19, 22, 29, 32, 35, 45, 50, 51, 72]\n"
     ]
    }
   ],
   "source": [
    "import random\n",
    "from collections import deque\n",
    "\n",
    "unsortData = random.sample(range(100), 10)\n",
    "\n",
    "def merge_sort(lst):\n",
    "    if len(lst) <= 1:\n",
    "        return lst\n",
    "\n",
    "    def merge(left, right):\n",
    "        merged,left,right = deque(),deque(left),deque(right)\n",
    "        while left and right:\n",
    "            merged.append(left.popleft() if left[0] <= right[0] else right.popleft())\n",
    "        merged.extend(right if right else left)\n",
    "        return list(merged)\n",
    "\n",
    "    middle = int(len(lst) // 2)\n",
    "    left = merge_sort(lst[:middle])\n",
    "    right = merge_sort(lst[middle:])\n",
    "    return merge(left, right)\n",
    "\n",
    "print(\"原始資料:\", unsortData)\n",
    "sortData = merge_sort(unsortData)\n",
    "print(\"合併排序法資料:\", sortData)"
   ]
  }
 ],
 "metadata": {
  "kernelspec": {
   "display_name": "Python 3",
   "language": "python",
   "name": "python3"
  },
  "language_info": {
   "codemirror_mode": {
    "name": "ipython",
    "version": 3
   },
   "file_extension": ".py",
   "mimetype": "text/x-python",
   "name": "python",
   "nbconvert_exporter": "python",
   "pygments_lexer": "ipython3",
   "version": "3.7.3"
  }
 },
 "nbformat": 4,
 "nbformat_minor": 2
}
