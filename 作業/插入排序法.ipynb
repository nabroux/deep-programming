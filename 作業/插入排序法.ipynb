{
 "cells": [
  {
   "cell_type": "markdown",
   "metadata": {},
   "source": [
    "# 105306076 資管四 許雲輔 插入排序法"
   ]
  },
  {
   "cell_type": "code",
   "execution_count": 5,
   "metadata": {},
   "outputs": [
    {
     "name": "stdout",
     "output_type": "stream",
     "text": [
      "原始資料: [5, 92, 70, 17, 15, 95, 57, 58, 13, 86]\n",
      "插入排序法資料: [5, 13, 15, 17, 57, 58, 70, 86, 92, 95]\n"
     ]
    }
   ],
   "source": [
    "import random\n",
    "\n",
    "unsortData = random.sample(range(100), 10)\n",
    "\n",
    "def insertion_sort(lst):\n",
    "    if len(lst) == 1:\n",
    "        return lst\n",
    "    \n",
    "    for i in range(1, len(lst)):\n",
    "        temp = lst[i]\n",
    "        j = i - 1\n",
    "        while j >= 0 and temp < lst[j]:\n",
    "            lst[j + 1] = lst[j]\n",
    "            j -= 1\n",
    "        lst[j + 1] = temp\n",
    "    return lst\n",
    "\n",
    "print (\"原始資料:\", unsortData)\n",
    "sortData = insertion_sort(unsortData)\n",
    "print (\"插入排序法資料:\", sortData)"
   ]
  }
 ],
 "metadata": {
  "kernelspec": {
   "display_name": "Python 3",
   "language": "python",
   "name": "python3"
  },
  "language_info": {
   "codemirror_mode": {
    "name": "ipython",
    "version": 3
   },
   "file_extension": ".py",
   "mimetype": "text/x-python",
   "name": "python",
   "nbconvert_exporter": "python",
   "pygments_lexer": "ipython3",
   "version": "3.7.3"
  }
 },
 "nbformat": 4,
 "nbformat_minor": 2
}
