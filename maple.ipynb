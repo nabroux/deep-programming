{
 "cells": [
  {
   "cell_type": "code",
   "execution_count": 1,
   "metadata": {},
   "outputs": [
    {
     "name": "stdout",
     "output_type": "stream",
     "text": [
      "傳說,2000\n",
      "狂狼勇士,2100\n",
      "狂狼勇士,2110\n",
      "狂狼勇士,2111\n",
      "狂狼勇士,2112\n"
     ]
    }
   ],
   "source": [
    "txt = '''2000 傳說\n",
    "2100 狂狼勇士\n",
    "2110 狂狼勇士\n",
    "2111 狂狼勇士\n",
    "2112 狂狼勇士'''\n",
    "\n",
    "t = txt.split('\\n')\n",
    "t = [item.split(' ')[::-1] for item in t]\n",
    "t = [','.join([item[0].strip(), item[1]]) for item in t]\n",
    "\n",
    "print('\\n'.join(t))"
   ]
  }
 ],
 "metadata": {
  "kernelspec": {
   "display_name": "Python 3",
   "language": "python",
   "name": "python3"
  },
  "language_info": {
   "codemirror_mode": {
    "name": "ipython",
    "version": 3
   },
   "file_extension": ".py",
   "mimetype": "text/x-python",
   "name": "python",
   "nbconvert_exporter": "python",
   "pygments_lexer": "ipython3",
   "version": "3.7.3"
  }
 },
 "nbformat": 4,
 "nbformat_minor": 2
}
